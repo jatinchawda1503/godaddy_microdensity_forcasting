{
 "cells": [
  {
   "cell_type": "code",
   "execution_count": 1,
   "metadata": {},
   "outputs": [],
   "source": [
    "import pandas as pd\n",
    "import numpy as np\n",
    "import matplotlib.pyplot as plt\n",
    "import joblib"
   ]
  },
  {
   "cell_type": "code",
   "execution_count": 2,
   "metadata": {},
   "outputs": [],
   "source": [
    "data = pd.read_csv('data/train.csv')\n",
    "census = pd.read_csv('data/census_starter.csv')"
   ]
  },
  {
   "cell_type": "code",
   "execution_count": 3,
   "metadata": {},
   "outputs": [
    {
     "data": {
      "text/html": [
       "<div>\n",
       "<style scoped>\n",
       "    .dataframe tbody tr th:only-of-type {\n",
       "        vertical-align: middle;\n",
       "    }\n",
       "\n",
       "    .dataframe tbody tr th {\n",
       "        vertical-align: top;\n",
       "    }\n",
       "\n",
       "    .dataframe thead th {\n",
       "        text-align: right;\n",
       "    }\n",
       "</style>\n",
       "<table border=\"1\" class=\"dataframe\">\n",
       "  <thead>\n",
       "    <tr style=\"text-align: right;\">\n",
       "      <th></th>\n",
       "      <th>row_id</th>\n",
       "      <th>cfips</th>\n",
       "      <th>county</th>\n",
       "      <th>state</th>\n",
       "      <th>first_day_of_month</th>\n",
       "      <th>microbusiness_density</th>\n",
       "      <th>active</th>\n",
       "    </tr>\n",
       "  </thead>\n",
       "  <tbody>\n",
       "    <tr>\n",
       "      <th>0</th>\n",
       "      <td>1001_2019-08-01</td>\n",
       "      <td>1001</td>\n",
       "      <td>Autauga County</td>\n",
       "      <td>Alabama</td>\n",
       "      <td>2019-08-01</td>\n",
       "      <td>3.007682</td>\n",
       "      <td>1249</td>\n",
       "    </tr>\n",
       "    <tr>\n",
       "      <th>1</th>\n",
       "      <td>1001_2019-09-01</td>\n",
       "      <td>1001</td>\n",
       "      <td>Autauga County</td>\n",
       "      <td>Alabama</td>\n",
       "      <td>2019-09-01</td>\n",
       "      <td>2.884870</td>\n",
       "      <td>1198</td>\n",
       "    </tr>\n",
       "    <tr>\n",
       "      <th>2</th>\n",
       "      <td>1001_2019-10-01</td>\n",
       "      <td>1001</td>\n",
       "      <td>Autauga County</td>\n",
       "      <td>Alabama</td>\n",
       "      <td>2019-10-01</td>\n",
       "      <td>3.055843</td>\n",
       "      <td>1269</td>\n",
       "    </tr>\n",
       "    <tr>\n",
       "      <th>3</th>\n",
       "      <td>1001_2019-11-01</td>\n",
       "      <td>1001</td>\n",
       "      <td>Autauga County</td>\n",
       "      <td>Alabama</td>\n",
       "      <td>2019-11-01</td>\n",
       "      <td>2.993233</td>\n",
       "      <td>1243</td>\n",
       "    </tr>\n",
       "    <tr>\n",
       "      <th>4</th>\n",
       "      <td>1001_2019-12-01</td>\n",
       "      <td>1001</td>\n",
       "      <td>Autauga County</td>\n",
       "      <td>Alabama</td>\n",
       "      <td>2019-12-01</td>\n",
       "      <td>2.993233</td>\n",
       "      <td>1243</td>\n",
       "    </tr>\n",
       "  </tbody>\n",
       "</table>\n",
       "</div>"
      ],
      "text/plain": [
       "            row_id  cfips          county    state first_day_of_month  \\\n",
       "0  1001_2019-08-01   1001  Autauga County  Alabama         2019-08-01   \n",
       "1  1001_2019-09-01   1001  Autauga County  Alabama         2019-09-01   \n",
       "2  1001_2019-10-01   1001  Autauga County  Alabama         2019-10-01   \n",
       "3  1001_2019-11-01   1001  Autauga County  Alabama         2019-11-01   \n",
       "4  1001_2019-12-01   1001  Autauga County  Alabama         2019-12-01   \n",
       "\n",
       "   microbusiness_density  active  \n",
       "0               3.007682    1249  \n",
       "1               2.884870    1198  \n",
       "2               3.055843    1269  \n",
       "3               2.993233    1243  \n",
       "4               2.993233    1243  "
      ]
     },
     "execution_count": 3,
     "metadata": {},
     "output_type": "execute_result"
    }
   ],
   "source": [
    "data.head()"
   ]
  },
  {
   "cell_type": "code",
   "execution_count": 4,
   "metadata": {},
   "outputs": [],
   "source": [
    "# first_day_of_month to datetime\n",
    "#  = pd.to_datetime(data['first_day_of_month'])\n",
    "data['first_day_of_month'] = pd.to_datetime(data['first_day_of_month'])\n",
    "data['year'] = data['first_day_of_month'].dt.year\n",
    "data['month'] = data['first_day_of_month'].dt.month\n",
    "data['day'] = data['first_day_of_month'].dt.day\n",
    "\n",
    "# drop first_day_of_month\n",
    "data = data.drop('first_day_of_month', axis=1)"
   ]
  },
  {
   "cell_type": "code",
   "execution_count": 5,
   "metadata": {},
   "outputs": [
    {
     "data": {
      "text/plain": [
       "row_id                    object\n",
       "cfips                      int64\n",
       "county                    object\n",
       "state                     object\n",
       "microbusiness_density    float64\n",
       "active                     int64\n",
       "year                       int64\n",
       "month                      int64\n",
       "day                        int64\n",
       "dtype: object"
      ]
     },
     "execution_count": 5,
     "metadata": {},
     "output_type": "execute_result"
    }
   ],
   "source": [
    "data.dtypes"
   ]
  },
  {
   "cell_type": "code",
   "execution_count": 6,
   "metadata": {},
   "outputs": [
    {
     "data": {
      "text/plain": [
       "0    1001\n",
       "1    1003\n",
       "2    1005\n",
       "3    1007\n",
       "4    1009\n",
       "5    1011\n",
       "6    1013\n",
       "7    1015\n",
       "8    1017\n",
       "9    1019\n",
       "Name: cfips, dtype: int64"
      ]
     },
     "execution_count": 6,
     "metadata": {},
     "output_type": "execute_result"
    }
   ],
   "source": [
    "census['cfips'].head(10)"
   ]
  },
  {
   "cell_type": "code",
   "execution_count": 7,
   "metadata": {},
   "outputs": [],
   "source": [
    "df = pd.merge(data, census, on='cfips')"
   ]
  },
  {
   "cell_type": "code",
   "execution_count": 8,
   "metadata": {},
   "outputs": [
    {
     "data": {
      "text/html": [
       "<div>\n",
       "<style scoped>\n",
       "    .dataframe tbody tr th:only-of-type {\n",
       "        vertical-align: middle;\n",
       "    }\n",
       "\n",
       "    .dataframe tbody tr th {\n",
       "        vertical-align: top;\n",
       "    }\n",
       "\n",
       "    .dataframe thead th {\n",
       "        text-align: right;\n",
       "    }\n",
       "</style>\n",
       "<table border=\"1\" class=\"dataframe\">\n",
       "  <thead>\n",
       "    <tr style=\"text-align: right;\">\n",
       "      <th></th>\n",
       "      <th>row_id</th>\n",
       "      <th>cfips</th>\n",
       "      <th>county</th>\n",
       "      <th>state</th>\n",
       "      <th>microbusiness_density</th>\n",
       "      <th>active</th>\n",
       "      <th>year</th>\n",
       "      <th>month</th>\n",
       "      <th>day</th>\n",
       "      <th>pct_bb_2017</th>\n",
       "      <th>...</th>\n",
       "      <th>pct_it_workers_2017</th>\n",
       "      <th>pct_it_workers_2018</th>\n",
       "      <th>pct_it_workers_2019</th>\n",
       "      <th>pct_it_workers_2020</th>\n",
       "      <th>pct_it_workers_2021</th>\n",
       "      <th>median_hh_inc_2017</th>\n",
       "      <th>median_hh_inc_2018</th>\n",
       "      <th>median_hh_inc_2019</th>\n",
       "      <th>median_hh_inc_2020</th>\n",
       "      <th>median_hh_inc_2021</th>\n",
       "    </tr>\n",
       "  </thead>\n",
       "  <tbody>\n",
       "    <tr>\n",
       "      <th>0</th>\n",
       "      <td>1001_2019-08-01</td>\n",
       "      <td>1001</td>\n",
       "      <td>Autauga County</td>\n",
       "      <td>Alabama</td>\n",
       "      <td>3.007682</td>\n",
       "      <td>1249</td>\n",
       "      <td>2019</td>\n",
       "      <td>8</td>\n",
       "      <td>1</td>\n",
       "      <td>76.6</td>\n",
       "      <td>...</td>\n",
       "      <td>1.3</td>\n",
       "      <td>1.1</td>\n",
       "      <td>0.7</td>\n",
       "      <td>0.6</td>\n",
       "      <td>1.1</td>\n",
       "      <td>55317</td>\n",
       "      <td>58786.0</td>\n",
       "      <td>58731</td>\n",
       "      <td>57982.0</td>\n",
       "      <td>62660.0</td>\n",
       "    </tr>\n",
       "    <tr>\n",
       "      <th>1</th>\n",
       "      <td>1001_2019-09-01</td>\n",
       "      <td>1001</td>\n",
       "      <td>Autauga County</td>\n",
       "      <td>Alabama</td>\n",
       "      <td>2.884870</td>\n",
       "      <td>1198</td>\n",
       "      <td>2019</td>\n",
       "      <td>9</td>\n",
       "      <td>1</td>\n",
       "      <td>76.6</td>\n",
       "      <td>...</td>\n",
       "      <td>1.3</td>\n",
       "      <td>1.1</td>\n",
       "      <td>0.7</td>\n",
       "      <td>0.6</td>\n",
       "      <td>1.1</td>\n",
       "      <td>55317</td>\n",
       "      <td>58786.0</td>\n",
       "      <td>58731</td>\n",
       "      <td>57982.0</td>\n",
       "      <td>62660.0</td>\n",
       "    </tr>\n",
       "    <tr>\n",
       "      <th>2</th>\n",
       "      <td>1001_2019-10-01</td>\n",
       "      <td>1001</td>\n",
       "      <td>Autauga County</td>\n",
       "      <td>Alabama</td>\n",
       "      <td>3.055843</td>\n",
       "      <td>1269</td>\n",
       "      <td>2019</td>\n",
       "      <td>10</td>\n",
       "      <td>1</td>\n",
       "      <td>76.6</td>\n",
       "      <td>...</td>\n",
       "      <td>1.3</td>\n",
       "      <td>1.1</td>\n",
       "      <td>0.7</td>\n",
       "      <td>0.6</td>\n",
       "      <td>1.1</td>\n",
       "      <td>55317</td>\n",
       "      <td>58786.0</td>\n",
       "      <td>58731</td>\n",
       "      <td>57982.0</td>\n",
       "      <td>62660.0</td>\n",
       "    </tr>\n",
       "    <tr>\n",
       "      <th>3</th>\n",
       "      <td>1001_2019-11-01</td>\n",
       "      <td>1001</td>\n",
       "      <td>Autauga County</td>\n",
       "      <td>Alabama</td>\n",
       "      <td>2.993233</td>\n",
       "      <td>1243</td>\n",
       "      <td>2019</td>\n",
       "      <td>11</td>\n",
       "      <td>1</td>\n",
       "      <td>76.6</td>\n",
       "      <td>...</td>\n",
       "      <td>1.3</td>\n",
       "      <td>1.1</td>\n",
       "      <td>0.7</td>\n",
       "      <td>0.6</td>\n",
       "      <td>1.1</td>\n",
       "      <td>55317</td>\n",
       "      <td>58786.0</td>\n",
       "      <td>58731</td>\n",
       "      <td>57982.0</td>\n",
       "      <td>62660.0</td>\n",
       "    </tr>\n",
       "    <tr>\n",
       "      <th>4</th>\n",
       "      <td>1001_2019-12-01</td>\n",
       "      <td>1001</td>\n",
       "      <td>Autauga County</td>\n",
       "      <td>Alabama</td>\n",
       "      <td>2.993233</td>\n",
       "      <td>1243</td>\n",
       "      <td>2019</td>\n",
       "      <td>12</td>\n",
       "      <td>1</td>\n",
       "      <td>76.6</td>\n",
       "      <td>...</td>\n",
       "      <td>1.3</td>\n",
       "      <td>1.1</td>\n",
       "      <td>0.7</td>\n",
       "      <td>0.6</td>\n",
       "      <td>1.1</td>\n",
       "      <td>55317</td>\n",
       "      <td>58786.0</td>\n",
       "      <td>58731</td>\n",
       "      <td>57982.0</td>\n",
       "      <td>62660.0</td>\n",
       "    </tr>\n",
       "  </tbody>\n",
       "</table>\n",
       "<p>5 rows × 34 columns</p>\n",
       "</div>"
      ],
      "text/plain": [
       "            row_id  cfips          county    state  microbusiness_density  \\\n",
       "0  1001_2019-08-01   1001  Autauga County  Alabama               3.007682   \n",
       "1  1001_2019-09-01   1001  Autauga County  Alabama               2.884870   \n",
       "2  1001_2019-10-01   1001  Autauga County  Alabama               3.055843   \n",
       "3  1001_2019-11-01   1001  Autauga County  Alabama               2.993233   \n",
       "4  1001_2019-12-01   1001  Autauga County  Alabama               2.993233   \n",
       "\n",
       "   active  year  month  day  pct_bb_2017  ...  pct_it_workers_2017  \\\n",
       "0    1249  2019      8    1         76.6  ...                  1.3   \n",
       "1    1198  2019      9    1         76.6  ...                  1.3   \n",
       "2    1269  2019     10    1         76.6  ...                  1.3   \n",
       "3    1243  2019     11    1         76.6  ...                  1.3   \n",
       "4    1243  2019     12    1         76.6  ...                  1.3   \n",
       "\n",
       "   pct_it_workers_2018  pct_it_workers_2019  pct_it_workers_2020  \\\n",
       "0                  1.1                  0.7                  0.6   \n",
       "1                  1.1                  0.7                  0.6   \n",
       "2                  1.1                  0.7                  0.6   \n",
       "3                  1.1                  0.7                  0.6   \n",
       "4                  1.1                  0.7                  0.6   \n",
       "\n",
       "   pct_it_workers_2021  median_hh_inc_2017  median_hh_inc_2018  \\\n",
       "0                  1.1               55317             58786.0   \n",
       "1                  1.1               55317             58786.0   \n",
       "2                  1.1               55317             58786.0   \n",
       "3                  1.1               55317             58786.0   \n",
       "4                  1.1               55317             58786.0   \n",
       "\n",
       "   median_hh_inc_2019  median_hh_inc_2020  median_hh_inc_2021  \n",
       "0               58731             57982.0             62660.0  \n",
       "1               58731             57982.0             62660.0  \n",
       "2               58731             57982.0             62660.0  \n",
       "3               58731             57982.0             62660.0  \n",
       "4               58731             57982.0             62660.0  \n",
       "\n",
       "[5 rows x 34 columns]"
      ]
     },
     "execution_count": 8,
     "metadata": {},
     "output_type": "execute_result"
    }
   ],
   "source": [
    "df.head()"
   ]
  },
  {
   "cell_type": "code",
   "execution_count": 9,
   "metadata": {},
   "outputs": [
    {
     "data": {
      "text/plain": [
       "122265"
      ]
     },
     "execution_count": 9,
     "metadata": {},
     "output_type": "execute_result"
    }
   ],
   "source": [
    "len(df)"
   ]
  },
  {
   "cell_type": "code",
   "execution_count": 10,
   "metadata": {},
   "outputs": [
    {
     "data": {
      "text/plain": [
       "row_id                    0\n",
       "cfips                     0\n",
       "county                    0\n",
       "state                     0\n",
       "microbusiness_density     0\n",
       "active                    0\n",
       "year                      0\n",
       "month                     0\n",
       "day                       0\n",
       "pct_bb_2017               0\n",
       "pct_bb_2018               0\n",
       "pct_bb_2019               0\n",
       "pct_bb_2020               0\n",
       "pct_bb_2021               0\n",
       "pct_college_2017          0\n",
       "pct_college_2018          0\n",
       "pct_college_2019          0\n",
       "pct_college_2020          0\n",
       "pct_college_2021          0\n",
       "pct_foreign_born_2017     0\n",
       "pct_foreign_born_2018     0\n",
       "pct_foreign_born_2019     0\n",
       "pct_foreign_born_2020     0\n",
       "pct_foreign_born_2021     0\n",
       "pct_it_workers_2017       0\n",
       "pct_it_workers_2018      39\n",
       "pct_it_workers_2019       0\n",
       "pct_it_workers_2020       0\n",
       "pct_it_workers_2021       0\n",
       "median_hh_inc_2017        0\n",
       "median_hh_inc_2018       39\n",
       "median_hh_inc_2019        0\n",
       "median_hh_inc_2020       39\n",
       "median_hh_inc_2021       39\n",
       "dtype: int64"
      ]
     },
     "execution_count": 10,
     "metadata": {},
     "output_type": "execute_result"
    }
   ],
   "source": [
    "df.isna().sum()"
   ]
  },
  {
   "cell_type": "code",
   "execution_count": 11,
   "metadata": {},
   "outputs": [],
   "source": [
    "# fill missing values of pct_it_workers_2018 with the mean\n",
    "df['pct_it_workers_2018'].fillna(df['pct_it_workers_2018'].mean(), inplace=True)"
   ]
  },
  {
   "cell_type": "code",
   "execution_count": 12,
   "metadata": {},
   "outputs": [],
   "source": [
    "# fill missing values of median_hh_inc_2018, median_hh_inc_2020, median_hh_inc_2021 with median\n",
    "df['median_hh_inc_2018'].fillna(df['median_hh_inc_2018'].median(), inplace=True)\n",
    "df['median_hh_inc_2020'].fillna(df['median_hh_inc_2020'].median(), inplace=True)\n",
    "df['median_hh_inc_2021'].fillna(df['median_hh_inc_2021'].median(), inplace=True)"
   ]
  },
  {
   "cell_type": "code",
   "execution_count": 13,
   "metadata": {},
   "outputs": [],
   "source": [
    "# correlation matrix\n",
    "corr = df.corr()"
   ]
  },
  {
   "cell_type": "code",
   "execution_count": 14,
   "metadata": {},
   "outputs": [
    {
     "data": {
      "text/plain": [
       "microbusiness_density    1.000000\n",
       "pct_college_2021         0.484153\n",
       "pct_college_2019         0.482557\n",
       "pct_college_2018         0.481764\n",
       "pct_college_2017         0.480409\n",
       "pct_college_2020         0.476635\n",
       "median_hh_inc_2021       0.394345\n",
       "pct_bb_2017              0.393485\n",
       "median_hh_inc_2020       0.391271\n",
       "pct_bb_2018              0.383592\n",
       "median_hh_inc_2019       0.383006\n",
       "median_hh_inc_2018       0.373871\n",
       "pct_bb_2019              0.371221\n",
       "median_hh_inc_2017       0.365038\n",
       "pct_bb_2020              0.355352\n",
       "pct_bb_2021              0.349566\n",
       "active                   0.316981\n",
       "pct_foreign_born_2020    0.284484\n",
       "pct_foreign_born_2021    0.280956\n",
       "pct_foreign_born_2018    0.276318\n",
       "pct_foreign_born_2019    0.275900\n",
       "pct_foreign_born_2017    0.272928\n",
       "pct_it_workers_2018      0.259179\n",
       "pct_it_workers_2017      0.252017\n",
       "pct_it_workers_2020      0.249607\n",
       "pct_it_workers_2019      0.246404\n",
       "pct_it_workers_2021      0.241921\n",
       "year                     0.017025\n",
       "month                    0.002121\n",
       "cfips                   -0.011767\n",
       "day                           NaN\n",
       "Name: microbusiness_density, dtype: float64"
      ]
     },
     "execution_count": 14,
     "metadata": {},
     "output_type": "execute_result"
    }
   ],
   "source": [
    "# sort the correlation matrix by the target variable\n",
    "corr['microbusiness_density'].sort_values(ascending=False)"
   ]
  },
  {
   "cell_type": "code",
   "execution_count": 15,
   "metadata": {},
   "outputs": [
    {
     "data": {
      "image/png": "[encoded data removed]",
      "text/plain": [
       "<Figure size 1440x1440 with 2 Axes>"
      ]
     },
     "metadata": {
      "needs_background": "light"
     },
     "output_type": "display_data"
    }
   ],
   "source": [
    "#plot the correlation matrix\n",
    "plt.figure(figsize=(20,20))\n",
    "plt.matshow(corr, fignum=1)\n",
    "plt.xticks(range(len(corr.columns)), corr.columns, fontsize=14, rotation=90)\n",
    "plt.yticks(range(len(corr.columns)), corr.columns, fontsize=14)\n",
    "cb = plt.colorbar()\n",
    "cb.ax.tick_params(labelsize=14)\n",
    "plt.title('Correlation Matrix', fontsize=16)\n",
    "plt.show()"
   ]
  },
  {
   "cell_type": "code",
   "execution_count": 16,
   "metadata": {},
   "outputs": [],
   "source": [
    "# drop data whose correation is less than .32\n",
    "\n",
    "new_df = df.drop(corr[corr['microbusiness_density'] < .32].index, axis=1)"
   ]
  },
  {
   "cell_type": "code",
   "execution_count": 17,
   "metadata": {},
   "outputs": [
    {
     "data": {
      "text/plain": [
       "row_id                    object\n",
       "county                    object\n",
       "state                     object\n",
       "microbusiness_density    float64\n",
       "day                        int64\n",
       "pct_bb_2017              float64\n",
       "pct_bb_2018              float64\n",
       "pct_bb_2019              float64\n",
       "pct_bb_2020              float64\n",
       "pct_bb_2021              float64\n",
       "pct_college_2017         float64\n",
       "pct_college_2018         float64\n",
       "pct_college_2019         float64\n",
       "pct_college_2020         float64\n",
       "pct_college_2021         float64\n",
       "median_hh_inc_2017         int64\n",
       "median_hh_inc_2018       float64\n",
       "median_hh_inc_2019         int64\n",
       "median_hh_inc_2020       float64\n",
       "median_hh_inc_2021       float64\n",
       "dtype: object"
      ]
     },
     "execution_count": 17,
     "metadata": {},
     "output_type": "execute_result"
    }
   ],
   "source": [
    "new_df.dtypes"
   ]
  },
  {
   "cell_type": "code",
   "execution_count": 18,
   "metadata": {},
   "outputs": [],
   "source": [
    "# split data to X and y\n",
    "X = new_df.drop(['microbusiness_density','row_id'], axis=1)\n",
    "y = new_df['microbusiness_density']"
   ]
  },
  {
   "cell_type": "code",
   "execution_count": 19,
   "metadata": {},
   "outputs": [],
   "source": [
    "# split the data into training and testing sets\n",
    "from sklearn.model_selection import train_test_split\n",
    "X_train, X_test, y_train, y_test = train_test_split(X, y, test_size=0.3, random_state=42)\n"
   ]
  },
  {
   "cell_type": "code",
   "execution_count": 20,
   "metadata": {},
   "outputs": [],
   "source": [
    "# encode categorical variables\n",
    "from sklearn.preprocessing import OneHotEncoder\n",
    "\n",
    "def encode_data(input_df, stage):\n",
    "    cat_cols = input_df.select_dtypes(include=['object']).columns\n",
    "    if stage == 'train':\n",
    "        enc = OneHotEncoder(handle_unknown='ignore')\n",
    "        enc.fit(input_df[cat_cols])\n",
    "        joblib.dump(enc, 'cache/enc.joblib')\n",
    "    else:\n",
    "        enc = joblib.load('cache/enc.joblib')\n",
    "    encoded_data = enc.transform(input_df[cat_cols])\n",
    "    encoder_df = pd.DataFrame(encoded_data.toarray(), columns=enc.get_feature_names_out(cat_cols),index=input_df.index)\n",
    "    input_df = pd.concat([input_df, encoder_df], axis=1)\n",
    "    input_df.drop(cat_cols, axis=1, inplace=True)\n",
    "    return input_df"
   ]
  },
  {
   "cell_type": "code",
   "execution_count": 21,
   "metadata": {},
   "outputs": [],
   "source": [
    "X_train = encode_data(X_train, 'train')"
   ]
  },
  {
   "cell_type": "code",
   "execution_count": 22,
   "metadata": {},
   "outputs": [],
   "source": [
    "X_test = encode_data(X_test, 'test')"
   ]
  },
  {
   "cell_type": "code",
   "execution_count": 23,
   "metadata": {},
   "outputs": [],
   "source": [
    "# scale the data using StandardScaler\n",
    "from sklearn.preprocessing import StandardScaler\n",
    "\n",
    "def scale_data(input_df, stage):\n",
    "    num_cols = input_df.select_dtypes(include=['int64','float64']).columns\n",
    "    if stage == 'train':\n",
    "        scaler = StandardScaler()\n",
    "        scaler.fit(input_df[num_cols])\n",
    "        joblib.dump(scaler, 'cache/scaler.joblib')\n",
    "    else:\n",
    "        scaler = joblib.load('cache/scaler.joblib')\n",
    "    input_df[num_cols] = scaler.transform(input_df[num_cols])\n",
    "    return input_df"
   ]
  },
  {
   "cell_type": "code",
   "execution_count": 24,
   "metadata": {},
   "outputs": [],
   "source": [
    "X_train = scale_data(X_train, 'train')"
   ]
  },
  {
   "cell_type": "code",
   "execution_count": 25,
   "metadata": {},
   "outputs": [],
   "source": [
    "X_test = scale_data(X_test, 'test')"
   ]
  },
  {
   "cell_type": "code",
   "execution_count": 26,
   "metadata": {},
   "outputs": [
    {
     "name": "stdout",
     "output_type": "stream",
     "text": [
      "Training score:  0.5965423138198964\n",
      "Testing score:  0.6300866720571907\n",
      "MSE:  8.187103756362843\n",
      "RMSE:  2.8613115447925\n",
      "MAE:  0.8919770668177873\n",
      "R2:  0.6300866720571907\n"
     ]
    }
   ],
   "source": [
    "# train a linear regression model\n",
    "from sklearn.linear_model import LinearRegression\n",
    "from sklearn.metrics import mean_squared_error\n",
    "from sklearn.metrics import r2_score\n",
    "from sklearn.metrics import mean_absolute_error\n",
    "# report performance\n",
    "def report_performance(y_true, y_pred):\n",
    "    mse = mean_squared_error(y_true, y_pred)\n",
    "    rmse = np.sqrt(mse)\n",
    "    mae = mean_absolute_error(y_true, y_pred)\n",
    "    r2 = r2_score(y_true, y_pred)\n",
    "    print('MSE: ', mse)\n",
    "    print('RMSE: ', rmse)\n",
    "    print('MAE: ', mae)\n",
    "    print('R2: ', r2)\n",
    "\n",
    "\n",
    "lr = LinearRegression()\n",
    "lr.fit(X_train, y_train)\n",
    "\n",
    "train_score = lr.score(X_train, y_train)\n",
    "print('Training score: ', train_score)\n",
    "\n",
    "lr_pred = lr.predict(X_test)\n",
    "\n",
    "test_score = lr.score(X_test, y_test)\n",
    "print('Testing score: ', test_score)\n",
    "\n",
    "\n",
    "report_performance(y_test, lr_pred)"
   ]
  }
 ],
 "metadata": {
  "kernelspec": {
   "display_name": "base",
   "language": "python",
   "name": "python3"
  },
  "language_info": {
   "codemirror_mode": {
    "name": "ipython",
    "version": 3
   },
   "file_extension": ".py",
   "mimetype": "text/x-python",
   "name": "python",
   "nbconvert_exporter": "python",
   "pygments_lexer": "ipython3",
   "version": "3.9.12"
  },
  "orig_nbformat": 4,
  "vscode": {
   "interpreter": {
    "hash": "ad2bdc8ecc057115af97d19610ffacc2b4e99fae6737bb82f5d7fb13d2f2c186"
   }
  }
 },
 "nbformat": 4,
 "nbformat_minor": 2
}
